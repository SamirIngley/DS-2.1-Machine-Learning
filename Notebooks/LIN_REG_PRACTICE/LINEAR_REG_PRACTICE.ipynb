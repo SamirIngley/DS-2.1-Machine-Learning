{
 "cells": [
  {
   "cell_type": "markdown",
   "metadata": {},
   "source": [
    "Michael Galarnyk"
   ]
  },
  {
   "cell_type": "code",
   "execution_count": 10,
   "metadata": {},
   "outputs": [
    {
     "data": {
      "text/plain": [
       "[<matplotlib.lines.Line2D at 0x125cb7550>]"
      ]
     },
     "execution_count": 10,
     "metadata": {},
     "output_type": "execute_result"
    },
    {
     "data": {
      "image/png": "[encoded data removed]",
      "text/plain": [
       "<Figure size 432x288 with 1 Axes>"
      ]
     },
     "metadata": {
      "needs_background": "light"
     },
     "output_type": "display_data"
    }
   ],
   "source": [
    "import numpy as np\n",
    "import pandas as pd\n",
    "from sklearn.linear_model import LinearRegression\n",
    "import matplotlib.pyplot as plt\n",
    "\n",
    "# Read in csv file\n",
    "# File: https://github.com/mGalarnyk/Python_Tutorials/blob/master/Python_Basics/Linear_Regression/linear.csv\n",
    "raw_data = pd.read_csv(\"linear.csv\")\n",
    "\n",
    "# Removes rows with NaN in them\n",
    "filtered_data = raw_data[~np.isnan(raw_data[\"y\"])] \n",
    "\n",
    "x_y = np.array(filtered_data)\n",
    "x, y = x_y[:,0], x_y[:,1]\n",
    "\n",
    "# Reshaping\n",
    "x, y = x.reshape(-1,1), y.reshape(-1, 1)\n",
    "\n",
    "# Linear Regression Object \n",
    "lin_regression = LinearRegression()\n",
    "\n",
    "# Fitting linear model to the data\n",
    "lin_regression.fit(x,y)\n",
    "\n",
    "# Get slope of fitted line\n",
    "m = lin_regression.coef_\n",
    "\n",
    "# Get y-Intercept of the Line\n",
    "b = lin_regression.intercept_\n",
    "\n",
    "# Get Predictions for original x values\n",
    "# you can also get predictions for new data\n",
    "predictions = lin_regression.predict(x)\n",
    "\n",
    "# following slope intercept form \n",
    "# print \"formula: y = {0}x + {1}\".format(m, b) \n",
    "\n",
    "# Plot the Original Model (Black) and Predictions (Blue)\n",
    "plt.scatter(x, y,  color='black')\n",
    "plt.plot(x, predictions, color='blue',linewidth=3)"
   ]
  },
  {
   "cell_type": "code",
   "execution_count": 11,
   "metadata": {},
   "outputs": [
    {
     "data": {
      "text/plain": [
       "array([[1.5831968]])"
      ]
     },
     "execution_count": 11,
     "metadata": {},
     "output_type": "execute_result"
    }
   ],
   "source": [
    "m"
   ]
  },
  {
   "cell_type": "code",
   "execution_count": 12,
   "metadata": {},
   "outputs": [
    {
     "data": {
      "text/plain": [
       "array([4.4701969])"
      ]
     },
     "execution_count": 12,
     "metadata": {},
     "output_type": "execute_result"
    }
   ],
   "source": [
    "b"
   ]
  },
  {
   "cell_type": "code",
   "execution_count": null,
   "metadata": {},
   "outputs": [],
   "source": []
  }
 ],
 "metadata": {
  "kernelspec": {
   "display_name": "Python 3",
   "language": "python",
   "name": "python3"
  },
  "language_info": {
   "codemirror_mode": {
    "name": "ipython",
    "version": 3
   },
   "file_extension": ".py",
   "mimetype": "text/x-python",
   "name": "python",
   "nbconvert_exporter": "python",
   "pygments_lexer": "ipython3",
   "version": "3.7.6"
  }
 },
 "nbformat": 4,
 "nbformat_minor": 2
}
